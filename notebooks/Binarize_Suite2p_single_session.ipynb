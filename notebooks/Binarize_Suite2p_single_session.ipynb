{
 "cells": [
  {
   "cell_type": "code",
   "execution_count": 1,
   "id": "611dc90f",
   "metadata": {},
   "outputs": [
    {
     "name": "stderr",
     "output_type": "stream",
     "text": [
      "/tmp/ipykernel_61444/1392121454.py:12: DeprecationWarning: Importing display from IPython.core.display is deprecated since IPython 7.14, please import from IPython display\n",
      "  from IPython.core.display import display, HTML\n"
     ]
    },
    {
     "data": {
      "text/html": [
       "<style>.container { width:100% !important; }</style>"
      ],
      "text/plain": [
       "<IPython.core.display.HTML object>"
      ]
     },
     "metadata": {},
     "output_type": "display_data"
    },
    {
     "name": "stderr",
     "output_type": "stream",
     "text": [
      "/home/cat/anaconda3/envs/blockcourse/lib/python3.8/site-packages/tqdm/auto.py:22: TqdmWarning: IProgress not found. Please update jupyter and ipywidgets. See https://ipywidgets.readthedocs.io/en/stable/user_install.html\n",
      "  from .autonotebook import tqdm as notebook_tqdm\n"
     ]
    }
   ],
   "source": [
    "import matplotlib\n",
    "#%matplotlib qt  \n",
    "#%autosave 180\n",
    "%load_ext autoreload\n",
    "%autoreload 2\n",
    "\n",
    "import nest_asyncio\n",
    "%config Completer.use_jedi = False\n",
    "\n",
    "#\n",
    "import matplotlib.pyplot as plt\n",
    "from IPython.core.display import display, HTML\n",
    "display(HTML(\"<style>.container { width:100% !important; }</style>\"))\n",
    "\n",
    "# \n",
    "import numpy as np\n",
    "import os\n",
    "import scipy\n",
    "\n",
    "# add root directory to be able to import packages\n",
    "# todo: make all packages installable so they can be called/imported by environment\n",
    "import sys\n",
    "module_path = os.path.abspath(os.path.join('..'))\n",
    "sys.path.append(module_path)\n",
    "\n",
    "from utils.calcium import calcium\n"
   ]
  },
  {
   "cell_type": "markdown",
   "id": "2cdfefc7-0db6-4347-93c3-2973952cbfc6",
   "metadata": {},
   "source": [
    "# Fix missing python packages"
   ]
  },
  {
   "cell_type": "code",
   "execution_count": 2,
   "id": "cfec9199-3086-46cd-9d79-65ac63b55759",
   "metadata": {},
   "outputs": [],
   "source": [
    "# Install missing packages\n",
    "\n",
    "\n",
    "\n",
    "# then rerun the top/first cell again to see if packages are detected\n",
    "\n"
   ]
  },
  {
   "cell_type": "markdown",
   "id": "e27456db-3dc1-4118-8aef-271757dfa9c4",
   "metadata": {},
   "source": [
    "# Get required raw data for our task from dropbox"
   ]
  },
  {
   "cell_type": "code",
   "execution_count": 13,
   "id": "1dbe1871-6115-419d-988b-4f46a329229c",
   "metadata": {},
   "outputs": [
    {
     "data": {
      "text/plain": [
       "True"
      ]
     },
     "execution_count": 13,
     "metadata": {},
     "output_type": "execute_result"
    }
   ],
   "source": [
    "# go to google drive download the files from the binarization folder\n",
    "# make sure you know the location of the .zip file\n",
    "\n",
    "import webbrowser\n",
    "url = 'https://drive.google.com/drive/folders/1fiyQdL55S3kkAa0EcUj8fpo50o3zhQcy?usp=sharing'\n",
    "webbrowser.open(url)\n",
    "\n"
   ]
  },
  {
   "cell_type": "code",
   "execution_count": null,
   "id": "25395107-1b73-47a7-8cce-f8c04e202e46",
   "metadata": {},
   "outputs": [],
   "source": [
    "# unzip the binarization_data.zip file \n",
    "# you should be able to doubleclick on the file and unzip it using windows zip\n"
   ]
  },
  {
   "cell_type": "markdown",
   "id": "91149bfa-5346-46b9-9297-046502a2f541",
   "metadata": {},
   "source": [
    "# Run [Ca] data binarization algorithms"
   ]
  },
  {
   "cell_type": "code",
   "execution_count": 14,
   "id": "240d6ff7",
   "metadata": {
    "scrolled": true
   },
   "outputs": [],
   "source": [
    "# set input where our unzipped files are \n",
    "# this directory should have all the numpy files outputed from suite2p:\n",
    "#  e.g.  F.npy\n",
    "#        Fnew.npy \n",
    "#        spks..npy ...\n",
    "# \n",
    "\n",
    "data_dir = '/home/cat/Downloads/binarization_data'\n",
    "#data_dir = r'C:\\...'\n",
    "\n"
   ]
  },
  {
   "cell_type": "code",
   "execution_count": 15,
   "id": "02d6220d-87f8-4b3e-b3b4-73a3e93591ef",
   "metadata": {},
   "outputs": [],
   "source": [
    "# initialize calcium object and load suite2p data\n",
    "c = calcium.Calcium()                     # initialize a calcium object that will hold our data and process it\n",
    "c.verbose = True                          # outputs additional information during processing: True / False\n",
    "c.recompute_binarization = True           # recomputes binarization and other processing steps; False: loads from previous saved locations\n",
    "c.data_dir = data_dir\n"
   ]
  },
  {
   "cell_type": "code",
   "execution_count": 16,
   "id": "97bd1507-6730-4a29-bf73-d5a093467172",
   "metadata": {},
   "outputs": [
    {
     "name": "stdout",
     "output_type": "stream",
     "text": [
      "  Fluorescence data loading information\n",
      "         sample rate:  30 hz\n",
      "         self.F (fluorescence):  (1232, 55740)\n",
      "         self.Fneu (neuropile):  (1232, 55740)\n",
      "         self.iscell (Suite2p cell classifier output):  (2131, 2)\n",
      "              of which number of good cells:  (1232,)\n",
      "         self.spks (deconnvoved spikes):  (1232, 55740)\n",
      "         self.stat (footprints structure):  (1232,)\n",
      "         mean std over all cells :  21.5\n"
     ]
    }
   ],
   "source": [
    "# we load the output from suite2p \n",
    "c.load_suite2p()                          \n"
   ]
  },
  {
   "cell_type": "code",
   "execution_count": null,
   "id": "b4daaa76-8d55-4f73-b7fc-5584063bc075",
   "metadata": {},
   "outputs": [],
   "source": [
    "#############################################################\n",
    "#############################################################\n",
    "#############################################################\n",
    "# set flags to save matlab and python data\n",
    "c.save_python = True         # save output as .npz file \n",
    "c.save_matlab = False         # save output as .mat file\n"
   ]
  },
  {
   "cell_type": "code",
   "execution_count": null,
   "id": "0ec4ca4d-1ffc-454e-989b-640f6882601f",
   "metadata": {},
   "outputs": [],
   "source": [
    "###############################################\n",
    "##### PARAMETERS FOR RUNNING BINARIZATION #####\n",
    "###############################################\n",
    "c.min_width_event_onphase = c.sample_rate//2 # set minimum withd of an onphase event; default: 0.5 seconds\n",
    "c.min_width_event_upphase = c.sample_rate//4 # set minimum width of upphase event; default: 0.25 seconds\n"
   ]
  },
  {
   "cell_type": "code",
   "execution_count": null,
   "id": "2d99dcb0-5494-4a13-9405-01554ba9d8ab",
   "metadata": {},
   "outputs": [],
   "source": [
    "############# PARAMTERS TO TWEAK ##############\n",
    "#     1. Cutoff for calling somthing a spike:\n",
    "#        This is stored in: std_Fluorescence_onphase/uppohase: defaults: 1.5\n",
    "#                                        higher -> less events; lower -> more events\n",
    "#                                        start at default and increase if data is very noisy and getting too many noise-events\n",
    "c.min_thresh_std_onphase = 2.5      # set the minimum thrshold for onphase detection; defatul 2.5\n",
    "c.min_thresh_std_upphase = 2.5      # set the minimum thershold for uppohase detection; default: 2.5\n",
    "\n"
   ]
  },
  {
   "cell_type": "code",
   "execution_count": null,
   "id": "f74267ca-9ed4-4435-8fc7-0e7a2a8b622d",
   "metadata": {},
   "outputs": [],
   "source": [
    "#     2. Filter of [Ca] data which smooths the data significantly more and decreases number of binarzied events within a multi-second [Ca] event\n",
    "#        This is stored in high_cutoff: default 0.5 to 1.0\n",
    "#        The lower we set it the smoother our [Ca] traces and less \"choppy\" the binarized traces (but we loose some temporal precision)\n",
    "c.high_cutoff = 0.5              \n"
   ]
  },
  {
   "cell_type": "code",
   "execution_count": null,
   "id": "4a3da98e-2784-49a8-948c-d03b9b13ac9a",
   "metadata": {},
   "outputs": [],
   "source": [
    "\n",
    "#     3. Removing bleaching and drift artifacts using polynomial fits\n",
    "#        This is stored in detrend_model_order\n",
    "c.detrend_model_order = 1 # 1-5 polynomial fit\n",
    "\n"
   ]
  },
  {
   "cell_type": "code",
   "execution_count": null,
   "id": "4f2d56f6-35c8-40bb-ba8c-287194f1a5b8",
   "metadata": {},
   "outputs": [],
   "source": [
    "\n",
    "################################################\n",
    "########### RUN BINARIZATION STEP ##############\n",
    "################################################\n",
    "# \n",
    "c.binarize_fluorescence()"
   ]
  },
  {
   "cell_type": "markdown",
   "id": "f1f202ac-55b9-40be-bd7a-5e1d7f254f49",
   "metadata": {},
   "source": [
    "# Visualize results - single cells"
   ]
  },
  {
   "cell_type": "code",
   "execution_count": 20,
   "id": "dc28ac1f",
   "metadata": {},
   "outputs": [],
   "source": [
    "###############################################################\n",
    "######### LOAD BINARZIED DATA AND VISUALIZE CELL ACTIVITY #####\n",
    "###############################################################\n",
    "# \n",
    "fname = os.path.join(data_dir,'suite2p','plane0','binarized_traces.npz')\n"
   ]
  },
  {
   "cell_type": "code",
   "execution_count": null,
   "id": "cc015c59-1b13-4628-bac5-80bba951b0b5",
   "metadata": {},
   "outputs": [],
   "source": [
    "###############################################################\n",
    "######### LOAD BINARZIED DATA AND VISUALIZE CELL ACTIVITY #####\n",
    "###############################################################\n",
    "c = calcium.Calcium()   # we \"instantiate\" or make a calcium object\n",
    "c.fname = fname         # we provide the filename of our previously computed file.\n",
    "c.data_dir = data_dir\n",
    "c.recompute_binarization = False\n",
    "c.load_binarization()\n"
   ]
  },
  {
   "cell_type": "code",
   "execution_count": null,
   "id": "d5dc679e-de2f-4854-99be-147c88955fc6",
   "metadata": {},
   "outputs": [],
   "source": [
    "###############################################################\n",
    "################ SELECT CELL AND VISUALIZE ####################\n",
    "###############################################################\n",
    "# pick a random cell to visuzlie\n",
    "cell_id = 200\n",
    "\n",
    "# scale value for matching height of \n",
    "scale = 100\n",
    "\n",
    "# \n",
    "c.plot_cell_binarization(cell_id, scale)\n"
   ]
  },
  {
   "cell_type": "markdown",
   "id": "7fe15274-e97b-4a33-b8d9-94225a4d37e2",
   "metadata": {},
   "source": [
    "# Visualize results: rasters of all cells"
   ]
  },
  {
   "cell_type": "code",
   "execution_count": 16,
   "id": "a0e177d9",
   "metadata": {},
   "outputs": [],
   "source": [
    "######################################################\n",
    "############# SHOW RASTERS ###########################\n",
    "######################################################\n",
    "fname = os.path.join(data_dir,'suite2p','plane0','binarized_traces.npz')\n",
    "#data_dir = '/media/cat/4TB/donato/DON-003343/DON-003343_20210213/suite2p/plane0/'\n",
    "\n",
    "c = calcium.Calcium()\n",
    "c.data_dir = data_dir\n",
    "c.fname = fname\n",
    "c.recompute_binarization = False\n",
    "c.load_binarization()\n",
    "\n",
    "c.show_rasters()\n"
   ]
  },
  {
   "cell_type": "code",
   "execution_count": null,
   "id": "faa37030",
   "metadata": {},
   "outputs": [],
   "source": []
  },
  {
   "cell_type": "code",
   "execution_count": null,
   "id": "c8257683",
   "metadata": {},
   "outputs": [],
   "source": []
  },
  {
   "cell_type": "code",
   "execution_count": null,
   "id": "dd3177bc",
   "metadata": {},
   "outputs": [],
   "source": []
  },
  {
   "cell_type": "code",
   "execution_count": null,
   "id": "afc00149",
   "metadata": {},
   "outputs": [],
   "source": []
  },
  {
   "cell_type": "code",
   "execution_count": null,
   "id": "f99a9019",
   "metadata": {},
   "outputs": [],
   "source": []
  },
  {
   "cell_type": "code",
   "execution_count": null,
   "id": "f6ce39e8",
   "metadata": {},
   "outputs": [],
   "source": []
  },
  {
   "cell_type": "code",
   "execution_count": null,
   "id": "8d1b6b80",
   "metadata": {},
   "outputs": [],
   "source": []
  },
  {
   "cell_type": "code",
   "execution_count": null,
   "id": "67585fad",
   "metadata": {},
   "outputs": [],
   "source": []
  },
  {
   "cell_type": "code",
   "execution_count": null,
   "id": "fe3d8bc0",
   "metadata": {},
   "outputs": [],
   "source": []
  },
  {
   "cell_type": "code",
   "execution_count": null,
   "id": "eb29474c",
   "metadata": {},
   "outputs": [],
   "source": []
  }
 ],
 "metadata": {
  "kernelspec": {
   "display_name": "Python 3 (ipykernel)",
   "language": "python",
   "name": "python3"
  },
  "language_info": {
   "codemirror_mode": {
    "name": "ipython",
    "version": 3
   },
   "file_extension": ".py",
   "mimetype": "text/x-python",
   "name": "python",
   "nbconvert_exporter": "python",
   "pygments_lexer": "ipython3",
   "version": "3.8.13"
  }
 },
 "nbformat": 4,
 "nbformat_minor": 5
}
