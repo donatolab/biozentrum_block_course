{
 "cells": [
  {
   "cell_type": "code",
   "execution_count": 1,
   "id": "611dc90f",
   "metadata": {},
   "outputs": [
    {
     "data": {
      "application/javascript": [
       "IPython.notebook.set_autosave_interval(180000)"
      ]
     },
     "metadata": {},
     "output_type": "display_data"
    },
    {
     "name": "stdout",
     "output_type": "stream",
     "text": [
      "Autosaving every 180 seconds\n"
     ]
    },
    {
     "data": {
      "text/html": [
       "<style>.container { width:100% !important; }</style>"
      ],
      "text/plain": [
       "<IPython.core.display.HTML object>"
      ]
     },
     "metadata": {},
     "output_type": "display_data"
    }
   ],
   "source": [
    "import matplotlib\n",
    "%matplotlib tk\n",
    "%autosave 180\n",
    "%load_ext autoreload\n",
    "%autoreload 2\n",
    "\n",
    "import nest_asyncio\n",
    "%config Completer.use_jedi = False\n",
    "\n",
    "#\n",
    "import matplotlib.pyplot as plt\n",
    "from IPython.core.display import display, HTML\n",
    "display(HTML(\"<style>.container { width:100% !important; }</style>\"))\n",
    "\n",
    "# \n",
    "import numpy as np\n",
    "import os\n",
    "import scipy\n",
    "\n",
    "# add root directory to be able to import packages\n",
    "# todo: make all packages installable so they can be called/imported by environment\n",
    "import sys\n",
    "module_path = os.path.abspath(os.path.join('..'))\n",
    "sys.path.append(module_path)\n",
    "\n",
    "from utils.calcium import calcium\n"
   ]
  },
  {
   "cell_type": "code",
   "execution_count": 21,
   "id": "240d6ff7",
   "metadata": {
    "scrolled": true
   },
   "outputs": [
    {
     "name": "stdout",
     "output_type": "stream",
     "text": [
      "\n",
      "\n",
      "  Fluorescence data loading information\n",
      "         sample rate:  30 hz\n",
      "         self.F (fluorescence):  (1232, 55740)\n",
      "         self.Fneu (neuropile):  (1232, 55740)\n",
      "         self.iscell (Suite2p cell classifier output):  (2131, 2)\n",
      "              of which number of good cells:  (1232,)\n",
      "         self.spks (deconnvoved spikes):  (1232, 55740)\n",
      "         self.stat (footprints structure):  (1232,)\n",
      "         mean std over all cells :  21.5\n",
      "\n",
      "  Binarization parameters: \n",
      "        low pass filter low cuttoff:  0.5 hz\n",
      "        oasis_thresh_prefilter:  15\n",
      "        min_thresh_std_oasis:  0.1\n",
      "        min_thresh_std_onphase:  2.5\n",
      "        min_thresh_std_upphase:  2.5\n",
      "        min_width_event_onphase:  15\n",
      "        min_width_event_upphase:  7\n",
      "        min_width_event_oasis:  2\n",
      "        min_event_amplitude:  1\n"
     ]
    },
    {
     "name": "stderr",
     "output_type": "stream",
     "text": [
      "low pass filter: 100%|███████████████████████████████████████████████████████████████████████████████████████████████| 1232/1232 [00:01<00:00, 836.59it/s]\n",
      "model filter: remove bleaching or trends: 100%|██████████████████████████████████████████████████████████████████████| 1232/1232 [00:01<00:00, 826.84it/s]\n",
      "binarizing continuous traces filtered fluorescence onphase: 100%|████████████████████████████████████████████████████| 1232/1232 [00:02<00:00, 492.03it/s]\n",
      "binarizing continuous traces filtered fluorescence upphase: 100%|████████████████████████████████████████████████████| 1232/1232 [00:05<00:00, 232.42it/s]\n"
     ]
    },
    {
     "name": "stdout",
     "output_type": "stream",
     "text": [
      "   Oasis based binarization skipped by default ... \n"
     ]
    }
   ],
   "source": [
    "#############################################\n",
    "######### LOAD SUITE2P AND BINARIZE #########\n",
    "#############################################\n",
    "\n",
    "# input directory where Suite2p outputs matlab Fall.mat and all .npy files\n",
    "# data_dir = '/media/cat/4TB/donato/steffen/DON-004366/20210228/'\n",
    "# data_dir = '/media/cat/4TB/donato/steffen/DON-004366/20210301/'\n",
    "#data_dir = '/media/cat/4TB/donato/DON-003343/DON-003343_20210213/suite2p/plane0/'\n",
    "# data_dir = '/media/cat/4TB/donato/nathalie/plane0'\n",
    "# data_dir = '/media/cat/4TB/donato/renan/renan'\n",
    "# data_dir = '/media/cat/4TB/donato/steffen/DON-004366/20210228'   # can also add suite2p/plane0/\n",
    "data_dir = '/media/cat/4TB/donato/DON-006085/20210519/'\n",
    "\n",
    "# initialize calcium object and load suite2p data\n",
    "c = calcium.Calcium()\n",
    "c.verbose = True                          # outputs additional information during processing\n",
    "c.recompute_binarization = True           # recomputes binarization and other processing steps; False: loads from previous saved locations\n",
    "c.data_dir = data_dir\n",
    "c.load_suite2p()                          \n",
    "\n",
    "# set flags to save matlab and python data\n",
    "c.save_python = True         # save output as .npz file \n",
    "c.save_matlab = False         # save output as .mat file\n",
    "\n",
    "###############################################\n",
    "##### PARAMETERS FOR RUNNING BINARIZATION #####\n",
    "###############################################\n",
    "c.min_width_event_onphase = c.sample_rate//2 # set minimum withd of an onphase event; default: 0.5 seconds\n",
    "c.min_width_event_upphase = c.sample_rate//4 # set minimum width of upphase event; default: 0.25 seconds\n",
    "\n",
    "############# PARAMTERS TO TWEAK ##############\n",
    "#     1. Cutoff for calling somthing a spike:\n",
    "#        This is stored in: std_Fluorescence_onphase/uppohase: defaults: 1.5\n",
    "#                                        higher -> less events; lower -> more events\n",
    "#                                        start at default and increase if data is very noisy and getting too many noise-events\n",
    "c.min_thresh_std_onphase = 2.5      # set the minimum thrshold for onphase detection; defatul 2.5\n",
    "c.min_thresh_std_upphase = 2.5      # set the minimum thershold for uppohase detection; default: 2.5\n",
    "\n",
    "#     2. Filter of [Ca] data which smooths the data significantly more and decreases number of binarzied events within a multi-second [Ca] event\n",
    "#        This is stored in high_cutoff: default 0.5 to 1.0\n",
    "#        The lower we set it the smoother our [Ca] traces and less \"choppy\" the binarized traces (but we loose some temporal precision)\n",
    "c.high_cutoff = 0.5              \n",
    "\n",
    "#     3. Removing bleaching and drift artifacts using polynomial fits\n",
    "#        This is stored in detrend_model_order\n",
    "c.detrend_model_order = 1 # 1-5 polynomial fit\n",
    "\n",
    "\n",
    "################################################\n",
    "########### RUN BINARIZATION STEP ##############\n",
    "################################################\n",
    "# \n",
    "c.binarize_fluorescence()"
   ]
  },
  {
   "cell_type": "code",
   "execution_count": 20,
   "id": "dc28ac1f",
   "metadata": {},
   "outputs": [],
   "source": [
    "###############################################################\n",
    "######### LOAD BINARZIED DATA AND VISUALIZE CELL ACTIVITY #####\n",
    "###############################################################\n",
    "#fname = '/media/cat/4TB/donato/DON-003343/DON-003343_20210213/suite2p/plane0/binarized_traces.npz'\n",
    "#fname = '/media/cat/4TB/donato/steffen/DON-004366/20210228/binarized_traces.npz'\n",
    "#fname = '/media/cat/4TB/donato/nathalie/plane0/binarized_traces.npz'\n",
    "#fname = '/media/cat/4TB/donato/renan/renan/binarized_traces.npz'\n",
    "# \n",
    "fname = os.path.join(data_dir,'suite2p','plane0','binarized_traces.npz')\n",
    "\n",
    "c = calcium.Calcium()\n",
    "c.fname = fname\n",
    "c.data_dir = data_dir\n",
    "c.recompute_binarization = False\n",
    "c.load_binarization()\n",
    "\n",
    "# pick a random cell to visuzlie\n",
    "cell_id = 200\n",
    "scale = 100\n",
    "\n",
    "# \n",
    "c.plot_cell_binarization(cell_id, scale)\n"
   ]
  },
  {
   "cell_type": "code",
   "execution_count": 16,
   "id": "a0e177d9",
   "metadata": {},
   "outputs": [],
   "source": [
    "######################################################\n",
    "############# SHOW RASTERS ###########################\n",
    "######################################################\n",
    "fname = os.path.join(data_dir,'suite2p','plane0','binarized_traces.npz')\n",
    "#data_dir = '/media/cat/4TB/donato/DON-003343/DON-003343_20210213/suite2p/plane0/'\n",
    "\n",
    "c = calcium.Calcium()\n",
    "c.data_dir = data_dir\n",
    "c.fname = fname\n",
    "c.recompute_binarization = False\n",
    "c.load_binarization()\n",
    "\n",
    "c.show_rasters()\n"
   ]
  },
  {
   "cell_type": "code",
   "execution_count": null,
   "id": "faa37030",
   "metadata": {},
   "outputs": [],
   "source": []
  },
  {
   "cell_type": "code",
   "execution_count": null,
   "id": "c8257683",
   "metadata": {},
   "outputs": [],
   "source": []
  },
  {
   "cell_type": "code",
   "execution_count": null,
   "id": "dd3177bc",
   "metadata": {},
   "outputs": [],
   "source": []
  },
  {
   "cell_type": "code",
   "execution_count": null,
   "id": "afc00149",
   "metadata": {},
   "outputs": [],
   "source": []
  },
  {
   "cell_type": "code",
   "execution_count": null,
   "id": "f99a9019",
   "metadata": {},
   "outputs": [],
   "source": []
  },
  {
   "cell_type": "code",
   "execution_count": null,
   "id": "f6ce39e8",
   "metadata": {},
   "outputs": [],
   "source": []
  },
  {
   "cell_type": "code",
   "execution_count": null,
   "id": "8d1b6b80",
   "metadata": {},
   "outputs": [],
   "source": []
  },
  {
   "cell_type": "code",
   "execution_count": null,
   "id": "67585fad",
   "metadata": {},
   "outputs": [],
   "source": []
  },
  {
   "cell_type": "code",
   "execution_count": null,
   "id": "fe3d8bc0",
   "metadata": {},
   "outputs": [],
   "source": []
  },
  {
   "cell_type": "code",
   "execution_count": null,
   "id": "eb29474c",
   "metadata": {},
   "outputs": [],
   "source": []
  }
 ],
 "metadata": {
  "kernelspec": {
   "display_name": "Python 3 (ipykernel)",
   "language": "python",
   "name": "python3"
  },
  "language_info": {
   "codemirror_mode": {
    "name": "ipython",
    "version": 3
   },
   "file_extension": ".py",
   "mimetype": "text/x-python",
   "name": "python",
   "nbconvert_exporter": "python",
   "pygments_lexer": "ipython3",
   "version": "3.8.12"
  }
 },
 "nbformat": 4,
 "nbformat_minor": 5
}
