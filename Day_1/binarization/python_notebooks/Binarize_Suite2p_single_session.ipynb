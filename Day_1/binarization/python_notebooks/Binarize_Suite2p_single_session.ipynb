{
 "cells": [
  {
   "cell_type": "code",
   "execution_count": 1,
   "id": "611dc90f",
   "metadata": {},
   "outputs": [
    {
     "name": "stderr",
     "output_type": "stream",
     "text": [
      "/tmp/ipykernel_19068/361147393.py:12: DeprecationWarning: Importing display from IPython.core.display is deprecated since IPython 7.14, please import from IPython display\n",
      "  from IPython.core.display import display, HTML\n"
     ]
    },
    {
     "data": {
      "text/html": [
       "<style>.container { width:100% !important; }</style>"
      ],
      "text/plain": [
       "<IPython.core.display.HTML object>"
      ]
     },
     "metadata": {},
     "output_type": "display_data"
    },
    {
     "ename": "ModuleNotFoundError",
     "evalue": "No module named 'sklearn'",
     "output_type": "error",
     "traceback": [
      "\u001b[0;31m---------------------------------------------------------------------------\u001b[0m",
      "\u001b[0;31mModuleNotFoundError\u001b[0m                       Traceback (most recent call last)",
      "Input \u001b[0;32mIn [1]\u001b[0m, in \u001b[0;36m<cell line: 22>\u001b[0;34m()\u001b[0m\n\u001b[1;32m     18\u001b[0m \u001b[38;5;28;01mimport\u001b[39;00m \u001b[38;5;21;01mscipy\u001b[39;00m\n\u001b[1;32m     20\u001b[0m \u001b[38;5;66;03m# add root directory to be able to import packages\u001b[39;00m\n\u001b[1;32m     21\u001b[0m \u001b[38;5;66;03m# todo: make all packages installable so they can be called/imported by environment\u001b[39;00m\n\u001b[0;32m---> 22\u001b[0m \u001b[38;5;28;01mfrom\u001b[39;00m \u001b[38;5;21;01mutils\u001b[39;00m\u001b[38;5;21;01m.\u001b[39;00m\u001b[38;5;21;01mcalcium\u001b[39;00m \u001b[38;5;28;01mimport\u001b[39;00m calcium\n",
      "File \u001b[0;32m~/code/biozentrum_block_course/Day_1/binarization/python_notebooks/utils/calcium/calcium.py:7\u001b[0m, in \u001b[0;36m<module>\u001b[0;34m\u001b[0m\n\u001b[1;32m      4\u001b[0m \u001b[38;5;28;01mfrom\u001b[39;00m \u001b[38;5;21;01mscipy\u001b[39;00m\u001b[38;5;21;01m.\u001b[39;00m\u001b[38;5;21;01msignal\u001b[39;00m \u001b[38;5;28;01mimport\u001b[39;00m butter, lfilter, freqz, filtfilt\n\u001b[1;32m      5\u001b[0m \u001b[38;5;28;01mimport\u001b[39;00m \u001b[38;5;21;01mmatplotlib\u001b[39;00m\u001b[38;5;21;01m.\u001b[39;00m\u001b[38;5;21;01mpyplot\u001b[39;00m \u001b[38;5;28;01mas\u001b[39;00m \u001b[38;5;21;01mplt\u001b[39;00m\n\u001b[0;32m----> 7\u001b[0m \u001b[38;5;28;01mfrom\u001b[39;00m \u001b[38;5;21;01msklearn\u001b[39;00m\u001b[38;5;21;01m.\u001b[39;00m\u001b[38;5;21;01mdecomposition\u001b[39;00m \u001b[38;5;28;01mimport\u001b[39;00m PCA\n\u001b[1;32m      8\u001b[0m \u001b[38;5;28;01mimport\u001b[39;00m \u001b[38;5;21;01mpickle\u001b[39;00m \u001b[38;5;28;01mas\u001b[39;00m \u001b[38;5;21;01mpk\u001b[39;00m\n\u001b[1;32m      9\u001b[0m \u001b[38;5;28;01mimport\u001b[39;00m \u001b[38;5;21;01mscipy\u001b[39;00m\n",
      "\u001b[0;31mModuleNotFoundError\u001b[0m: No module named 'sklearn'"
     ]
    }
   ],
   "source": [
    "import matplotlib\n",
    "%matplotlib qt  \n",
    "#%autosave 180\n",
    "%load_ext autoreload\n",
    "%autoreload 2\n",
    "\n",
    "import nest_asyncio\n",
    "%config Completer.use_jedi = False\n",
    "\n",
    "#\n",
    "import matplotlib.pyplot as plt\n",
    "from IPython.core.display import display, HTML\n",
    "display(HTML(\"<style>.container { width:100% !important; }</style>\"))\n",
    "\n",
    "# \n",
    "import numpy as np\n",
    "import os\n",
    "import scipy\n",
    "\n"
   ]
  },
  {
   "cell_type": "markdown",
   "id": "2cdfefc7-0db6-4347-93c3-2973952cbfc6",
   "metadata": {},
   "source": [
    "# Fix missing python packages"
   ]
  },
  {
   "cell_type": "code",
   "execution_count": 2,
   "id": "cfec9199-3086-46cd-9d79-65ac63b55759",
   "metadata": {},
   "outputs": [],
   "source": [
    "# Install missing packages\n",
    "\n",
    "\n",
    "\n",
    "# then rerun the top/first cell again to see if packages are detected\n",
    "\n"
   ]
  },
  {
   "cell_type": "markdown",
   "id": "e27456db-3dc1-4118-8aef-271757dfa9c4",
   "metadata": {},
   "source": [
    "# Get required raw data for our task from dropbox"
   ]
  },
  {
   "cell_type": "code",
   "execution_count": 3,
   "id": "1dbe1871-6115-419d-988b-4f46a329229c",
   "metadata": {},
   "outputs": [
    {
     "data": {
      "text/plain": [
       "True"
      ]
     },
     "execution_count": 3,
     "metadata": {},
     "output_type": "execute_result"
    }
   ],
   "source": [
    "# go to google drive download the files from the binarization folder\n",
    "# make sure you know the location of the .zip file\n",
    "\n",
    "import webbrowser\n",
    "url = 'https://drive.google.com/drive/folders/1fiyQdL55S3kkAa0EcUj8fpo50o3zhQcy?usp=sharing'\n",
    "webbrowser.open(url)\n",
    "\n"
   ]
  },
  {
   "cell_type": "code",
   "execution_count": 4,
   "id": "25395107-1b73-47a7-8cce-f8c04e202e46",
   "metadata": {},
   "outputs": [],
   "source": [
    "# unzip the binarization_data.zip file \n",
    "# you should be able to doubleclick on the file and unzip it using windows zip\n"
   ]
  },
  {
   "cell_type": "markdown",
   "id": "91149bfa-5346-46b9-9297-046502a2f541",
   "metadata": {},
   "source": [
    "# Run [Ca] data binarization algorithms"
   ]
  },
  {
   "cell_type": "code",
   "execution_count": 5,
   "id": "240d6ff7",
   "metadata": {
    "scrolled": true
   },
   "outputs": [],
   "source": [
    "# set input where our unzipped files are \n",
    "# this directory should have all the numpy files outputed from suite2p:\n",
    "#  e.g.  F.npy\n",
    "#        Fnew.npy \n",
    "#        spks..npy ...\n",
    "# \n",
    "\n",
    "data_dir = '/home/cat/Downloads/binarization_data/'\n",
    "#data_dir = r'C:\\...'\n",
    "\n"
   ]
  },
  {
   "cell_type": "code",
   "execution_count": 6,
   "id": "02d6220d-87f8-4b3e-b3b4-73a3e93591ef",
   "metadata": {},
   "outputs": [],
   "source": [
    "# initialize calcium object and load suite2p data\n",
    "c = calcium.Calcium()                     # initialize a calcium object that will hold our data and process it\n",
    "c.verbose = True                          # outputs additional information during processing: True / False\n",
    "c.recompute_binarization = True           # recomputes binarization and other processing steps; False: loads from previous saved locations\n",
    "c.data_dir = data_dir\n"
   ]
  },
  {
   "cell_type": "code",
   "execution_count": 7,
   "id": "97bd1507-6730-4a29-bf73-d5a093467172",
   "metadata": {},
   "outputs": [
    {
     "name": "stdout",
     "output_type": "stream",
     "text": [
      "  Fluorescence data loading information\n",
      "         sample rate:  30 hz\n",
      "         self.F (fluorescence):  (1232, 55740)\n",
      "         self.Fneu (neuropile):  (1232, 55740)\n",
      "         self.iscell (Suite2p cell classifier output):  (2131, 2)\n",
      "              of which number of good cells:  (1232,)\n",
      "         self.spks (deconnvoved spikes):  (1232, 55740)\n",
      "         self.stat (footprints structure):  (1232,)\n",
      "         mean std over all cells :  21.5\n"
     ]
    }
   ],
   "source": [
    "# we load the output from suite2p \n",
    "c.load_suite2p()                          \n"
   ]
  },
  {
   "cell_type": "code",
   "execution_count": 8,
   "id": "b4daaa76-8d55-4f73-b7fc-5584063bc075",
   "metadata": {},
   "outputs": [],
   "source": [
    "# set flags to save matlab and python data\n",
    "c.save_python = True          # save output as .npz file to be loaded later by us using python\n",
    "c.save_matlab = False         # save output as .mat file if you wish to load the output later using Matlab\n"
   ]
  },
  {
   "cell_type": "code",
   "execution_count": 9,
   "id": "2d99dcb0-5494-4a13-9405-01554ba9d8ab",
   "metadata": {},
   "outputs": [],
   "source": [
    "#  First set of parameters\n",
    "#  - this is the threshold for calling a calcium trace event high enough to be considered a real event - rather than random fluctuation\n",
    "#  - the higher we set this threshold, the less events we get (more precise)\n",
    "#  - the lower we set this threshold, the more events (but more noise/random events)\n",
    "#\n",
    "#  Suggest to start at default of 2.5 and increase it if data is very noisy and getting too many noise-events\n",
    "c.min_thresh_std_onphase = 2.5      # set the minimum thrshold for onphase detection; defatul 2.5\n",
    "c.min_thresh_std_upphase = 2.5      # set the minimum thershold for uppohase detection; default: 2.5\n",
    "\n",
    "# onphase - is the detection of entire calcium events passing the threshold\n",
    "# upphase - is the detection of only the initial \"UP\" or rising phases of the calcium events\n",
    "#     more will be seen below in the visualizations\n",
    "\n",
    "#\n",
    "# TASK: play around with these values and visualize single cells and rasters below\n",
    "\n"
   ]
  },
  {
   "cell_type": "code",
   "execution_count": 10,
   "id": "f74267ca-9ed4-4435-8fc7-0e7a2a8b622d",
   "metadata": {},
   "outputs": [],
   "source": [
    "#  Second parameters to filter data\n",
    "#  - we filter the [Ca] traces which smooths the data significantly more \n",
    "#  - we use a \"low pass butter worth filter\" with a \"high_cutoff\" value \n",
    "#  - note: higher cutoff gives more calcium events but adds noise\n",
    "#          lower cutoff gives less calcium events but increases accuracy of detection\n",
    "\n",
    "#\n",
    "c.high_cutoff = 0.5               # default is 0.5hz but 1.0 hz can also work\n",
    "\n",
    "# TASK: play around with this filter and see how it affects the final rasters\n"
   ]
  },
  {
   "cell_type": "code",
   "execution_count": 11,
   "id": "4a3da98e-2784-49a8-948c-d03b9b13ac9a",
   "metadata": {},
   "outputs": [],
   "source": [
    "# Third set of parameters to remove artifcats from the baseline of the [Ca] traces\n",
    "# - this value is used to fit a polynomial to the [ca] traces and then remove it \n",
    "\n",
    "#\n",
    "c.detrend_model_order = 1 # 1-5 polynomial fit\n",
    "                          # polynomial of degree 1 = line\n",
    "                          # polynomial of degree 2 = parabola ...\n",
    "\n"
   ]
  },
  {
   "cell_type": "code",
   "execution_count": 12,
   "id": "4f2d56f6-35c8-40bb-ba8c-287194f1a5b8",
   "metadata": {},
   "outputs": [
    {
     "name": "stdout",
     "output_type": "stream",
     "text": [
      "\n",
      "  Binarization parameters: \n",
      "        low pass filter low cuttoff:  0.5 hz\n",
      "        oasis_thresh_prefilter:  15\n",
      "        min_thresh_std_oasis:  0.1\n",
      "        min_thresh_std_onphase:  2.5\n",
      "        min_thresh_std_upphase:  2.5\n",
      "        min_width_event_onphase:  15\n",
      "        min_width_event_upphase:  7\n",
      "        min_width_event_oasis:  2\n",
      "        min_event_amplitude:  1\n"
     ]
    },
    {
     "name": "stderr",
     "output_type": "stream",
     "text": [
      "low pass filter: 100%|████████████████████████████████████████████████████████████████████████████████████████████| 1232/1232 [00:01<00:00, 921.85it/s]\n",
      "model filter: remove bleaching or trends: 100%|███████████████████████████████████████████████████████████████████| 1232/1232 [00:01<00:00, 907.36it/s]\n",
      "binarizing continuous traces filtered fluorescence onphase: 100%|█████████████████████████████████████████████████| 1232/1232 [00:02<00:00, 490.16it/s]\n",
      "binarizing continuous traces filtered fluorescence upphase: 100%|█████████████████████████████████████████████████| 1232/1232 [00:05<00:00, 244.51it/s]\n"
     ]
    },
    {
     "name": "stdout",
     "output_type": "stream",
     "text": [
      "   Oasis based binarization skipped by default ... \n"
     ]
    }
   ],
   "source": [
    "# Finally we run the binarization step\n",
    "\n",
    "# \n",
    "c.binarize_fluorescence()"
   ]
  },
  {
   "cell_type": "markdown",
   "id": "f1f202ac-55b9-40be-bd7a-5e1d7f254f49",
   "metadata": {},
   "source": [
    "# Visualize results - single cells"
   ]
  },
  {
   "cell_type": "code",
   "execution_count": null,
   "id": "cc015c59-1b13-4628-bac5-80bba951b0b5",
   "metadata": {},
   "outputs": [],
   "source": [
    "# Next we turn off the flag that recomputes binarization - because we arleady did that\n",
    "c.recompute_binarization = False\n",
    "\n",
    "# ... and load our binarization data\n",
    "c.load_binarization()\n"
   ]
  },
  {
   "cell_type": "code",
   "execution_count": 39,
   "id": "d5dc679e-de2f-4854-99be-147c88955fc6",
   "metadata": {},
   "outputs": [],
   "source": [
    "# pick a random cell to visuzlie\n",
    "cell_id = 0\n",
    "\n",
    "# scale value for matching height of \n",
    "scale = 100\n",
    "\n",
    "# \n",
    "#fig=plt.figure(figsize=(20,20))\n",
    "c.plot_cell_binarization_and_ca(cell_id, scale)\n"
   ]
  },
  {
   "cell_type": "code",
   "execution_count": null,
   "id": "e58ca2f8-d985-493d-a18b-a38f9f9f086c",
   "metadata": {},
   "outputs": [],
   "source": [
    "# TASK: Spend some time visualizing lots of cells from early in the stack, i.e. cells 0,1,2...; middle 500,600, and end of the stack like 1000\n",
    "\n",
    "# Question what do you notice about the differences between cells?\n"
   ]
  },
  {
   "cell_type": "markdown",
   "id": "7fe15274-e97b-4a33-b8d9-94225a4d37e2",
   "metadata": {},
   "source": [
    "# Visualize results: rasters of all cells"
   ]
  },
  {
   "cell_type": "code",
   "execution_count": 40,
   "id": "a0e177d9",
   "metadata": {},
   "outputs": [
    {
     "name": "stderr",
     "output_type": "stream",
     "text": [
      "No artists with labels found to put in legend.  Note that artists whose label start with an underscore are ignored when legend() is called with no argument.\n"
     ]
    }
   ],
   "source": [
    "# finally we now want to visualize the location of the \n",
    "\n",
    "# select some cell ids:\n",
    "cell_ids = [0, 314, 501, 989] # can have any combination of cells you want\n",
    "                              # for example: \n",
    "                              #    cell_ids = np.arange(0,1000, 100) \n",
    "                              #  picks every 100th cell from 0 to 1000\n",
    "\n",
    "#\n",
    "c.plot_cell_binarization_multi_cell(cell_ids)"
   ]
  },
  {
   "cell_type": "code",
   "execution_count": 38,
   "id": "faa37030",
   "metadata": {},
   "outputs": [],
   "source": [
    "# \n",
    "c.show_rasters()\n"
   ]
  },
  {
   "cell_type": "code",
   "execution_count": null,
   "id": "c8257683",
   "metadata": {},
   "outputs": [],
   "source": []
  },
  {
   "cell_type": "code",
   "execution_count": null,
   "id": "dd3177bc",
   "metadata": {},
   "outputs": [],
   "source": []
  },
  {
   "cell_type": "code",
   "execution_count": null,
   "id": "afc00149",
   "metadata": {},
   "outputs": [],
   "source": []
  },
  {
   "cell_type": "code",
   "execution_count": null,
   "id": "f99a9019",
   "metadata": {},
   "outputs": [],
   "source": []
  },
  {
   "cell_type": "code",
   "execution_count": null,
   "id": "f6ce39e8",
   "metadata": {},
   "outputs": [],
   "source": []
  },
  {
   "cell_type": "code",
   "execution_count": null,
   "id": "8d1b6b80",
   "metadata": {},
   "outputs": [],
   "source": []
  },
  {
   "cell_type": "code",
   "execution_count": null,
   "id": "67585fad",
   "metadata": {},
   "outputs": [],
   "source": []
  },
  {
   "cell_type": "code",
   "execution_count": null,
   "id": "fe3d8bc0",
   "metadata": {},
   "outputs": [],
   "source": []
  },
  {
   "cell_type": "code",
   "execution_count": null,
   "id": "eb29474c",
   "metadata": {},
   "outputs": [],
   "source": []
  }
 ],
 "metadata": {
  "kernelspec": {
   "display_name": "Python 3 (ipykernel)",
   "language": "python",
   "name": "python3"
  },
  "language_info": {
   "codemirror_mode": {
    "name": "ipython",
    "version": 3
   },
   "file_extension": ".py",
   "mimetype": "text/x-python",
   "name": "python",
   "nbconvert_exporter": "python",
   "pygments_lexer": "ipython3",
   "version": "3.9.7"
  }
 },
 "nbformat": 4,
 "nbformat_minor": 5
}
